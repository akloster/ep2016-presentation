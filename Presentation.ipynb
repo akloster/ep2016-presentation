{
 "cells": [
  {
   "cell_type": "markdown",
   "metadata": {
    "slideshow": {
     "slide_type": "slide"
    }
   },
   "source": [
    "# Brainwaves for Hackers 3.0\n",
    "## Using our Python tools to understand our brain\n",
    "### Andreas Klostermann\n",
    "\n"
   ]
  },
  {
   "cell_type": "code",
   "execution_count": 1,
   "metadata": {
    "collapsed": false,
    "slideshow": {
     "slide_type": "notes"
    }
   },
   "outputs": [],
   "source": [
    "%load_ext autoreload\n",
    "%autoreload 2"
   ]
  },
  {
   "cell_type": "code",
   "execution_count": 18,
   "metadata": {
    "collapsed": false,
    "slideshow": {
     "slide_type": "notes"
    }
   },
   "outputs": [
    {
     "data": {
      "text/html": [
       "\n",
       "    <style>\n",
       "     .container.slides .celltoolbar, .container.slides .hide-in-slideshow, #exit_b, #help_b {\n",
       "        display: None ! important;\n",
       "    }\n",
       "    #exit_b, #help_b {\n",
       "        display: None ! important;\n",
       "    }\n",
       "\n",
       "    .container.slides {\n",
       "        width:1100px ! important;\n",
       "    }\n",
       "    .rise-enabled .controls {\n",
       "        display: None ! important;\n",
       "    }\n",
       "    .rise-enabled .text_cell {\n",
       "        font-size: 110%;\n",
       "    }\n",
       "    section#slide-0-0 {\n",
       "    }\n",
       "    </style>\n",
       "    "
      ]
     },
     "metadata": {},
     "output_type": "display_data"
    }
   ],
   "source": [
    "%matplotlib inline\n",
    "import IPython\n",
    "from presentation import *\n",
    "ep2016_barria_2_style()"
   ]
  },
  {
   "cell_type": "markdown",
   "metadata": {
    "slideshow": {
     "slide_type": "notes"
    }
   },
   "source": [
    "This talk is about how to read and interpret brainwaves using Python and its toolset. There have been two prior versions of this talk, and you don't need to have seen the previous two to get something out of this talk, but if you have seen them, you'll still hear something new.\n",
    "\n",
    "What I represent here are entirely my own opinions, and nothing I say and write here should be taken as medical advice. I wrote this software mainly out of curiosity, and this is not part of any commercial or academic endeavour.\n",
    "\n"
   ]
  },
  {
   "cell_type": "markdown",
   "metadata": {
    "collapsed": true,
    "slideshow": {
     "slide_type": "slide"
    }
   },
   "source": [
    "# What are brainwaves?\n",
    "\n",
    "![alt text](neuron_cell_1.png \"Logo Title Text 1\")\n"
   ]
  },
  {
   "cell_type": "markdown",
   "metadata": {
    "collapsed": true,
    "slideshow": {
     "slide_type": "notes"
    }
   },
   "source": [
    "You probably know that your brain contains billions of brain cells. These brain cells communicate with each other using electrical signals. Whenever one brain cell fires a signal, an extremely tiny potential wave or signal travels outward from the cell.\n",
    "\n",
    "With the help of very sensitive instruments, we can measure the summation of these signals on the skin of the skalp. We can't ever read the signal of a single cell, however, instead what we see is a summation of billions of cells.\n",
    "\n",
    "The medical term for brainwaves is electroencephalography, EEG for short."
   ]
  },
  {
   "cell_type": "markdown",
   "metadata": {
    "collapsed": true,
    "slideshow": {
     "slide_type": "slide"
    }
   },
   "source": [
    "# What can you do with brainwaves?\n",
    "\n",
    "- Neurofeedback Training\n",
    "- Simple neuroscientific experiments\n",
    "- Brain Computer Interfaces (BCI)\n",
    "- (diagnose neurological problems)"
   ]
  },
  {
   "cell_type": "markdown",
   "metadata": {
    "slideshow": {
     "slide_type": "notes"
    }
   },
   "source": [
    "This talk is about consumer grade EEG devices. These are somewhat limited in their sensitivity and signal quality, so you are not allowed to use them for medical diagnostics and such. But on the other hand they are a lot easier to set up and a lot cheaper than medical grade or research grade devices.\n",
    "\n",
    "### Neurofeedback Training\n",
    "\n",
    "Neurofeedback means that you feed back information about the user's mental state back to the user. Using this feedback the user can then practice and learn to control his mental state. In numerous scientific studies this has been shown to help with epilepsy, Attention Deficit/Hyperactivity disorder, and other conditions. But please consult a doctor if you want to use neurofeedback on yourself for a medical reason, and you shouldn't do such treatment on your own. For experimentation, unless you have a neurological condition, it should be safe.\n",
    "\n",
    "### Experiments\n",
    "\n",
    "The devices are good enough for simple neurological experiments and I will show one later.\n",
    "\n",
    "### Brain Computer Interfaces (BCI)\n",
    "\n",
    "BCI applications try to use brainwaves as an input for a computer program. It's very difficult to do this with the devices I'll show you, and BCI is not my personal interest. In a very limited way however, this is possible."
   ]
  },
  {
   "cell_type": "markdown",
   "metadata": {
    "collapsed": true,
    "slideshow": {
     "slide_type": "slide"
    }
   },
   "source": [
    "# Neurosky Mindwave\n",
    "\n",
    "![alt text](MindWave_Headset.jpg \"Logo Title Text 1\")\n"
   ]
  },
  {
   "cell_type": "markdown",
   "metadata": {
    "slideshow": {
     "slide_type": "notes"
    }
   },
   "source": [
    "The Neurosky Mindwave is a bluetooth connected headset, which can measure one channel on the front of the head. It's main design goal is neurofeedback training through games. The technology inside the headset is modular, so that it can be used in different devices. For example there are board games, and a version which has cat ears mounted on servo motors, and the brain wave signals control how the ears move."
   ]
  },
  {
   "cell_type": "markdown",
   "metadata": {
    "slideshow": {
     "slide_type": "slide"
    }
   },
   "source": [
    "\n",
    "![alt text](Muse_Logo_2.png \"Logo Title Text 1\")\n",
    "![alt text](muse-sort---nyt-logo-1-4.jpg \"Logo Title Text 1\")"
   ]
  },
  {
   "cell_type": "markdown",
   "metadata": {
    "slideshow": {
     "slide_type": "notes"
    }
   },
   "source": [
    "The Interaxon Muse is another bluetooth headset. It is mainly designed to be used by the Muse App, which offers Neurofeedback for Meditation.\n",
    "\n",
    "The Muse can record 4 channels of EEG and also records Accelerometer data at 50hz. It's however three times more expensive.\n",
    "\n",
    "The Muse knows several \"presets\", which offer different configurations. The original firmware only supported what they called \"compressed packets\", which means they use a sophisticated variable bitlength scheme to encode the EEG data. The documentation says that this was necessary because of limitations in iOS. I never really figured out how to read these packets.\n",
    "\n",
    "Other configurations, called \"research presets\" don't compress the data, but they weren't available with the firmware that was originally distributed by the Android app. Recently they changed, that, luckily, now I can use the research presets, which also offer a higher sampling rate of 500 samples per second.\n",
    "\n",
    "I have the 2014 Version of the device. There is now a new one which has different presets yet again. The research presets are gone, now all consumer presets are uncompressed and run a sampling rate of 200 samples per second."
   ]
  },
  {
   "cell_type": "markdown",
   "metadata": {
    "slideshow": {
     "slide_type": "slide"
    }
   },
   "source": [
    "# Comparison\n",
    "\n",
    "| | Neurosky Mindwave | Interaxon Muse|\n",
    "|--|-------------------|----------------|\n",
    "| EEG Channels | 1 | 4 |\n",
    "| Accelerometer Channels | |2 |\n",
    "| Sample Rate | 512 Hz| 500hz (200Hz)|\n",
    "| Sensors | \"dry\"| \"dry\"|\n",
    "| Precomputed Measures| \"attention\" and \"meditation\"|  |\n",
    "| \"Hackability\" | Excellent | Good |"
   ]
  },
  {
   "cell_type": "markdown",
   "metadata": {
    "slideshow": {
     "slide_type": "notes"
    }
   },
   "source": [
    "First of all, the Mindwave is a lot cheaper. The Muse theoretically offers more and better data, but it may be hard to actually exploit this data. On the other hand, the Mindwave only has one channel, and some neurofeedback protocols require two or more of these.\n",
    "\n",
    "The Mindwave seems to be especially focused on being hackable. The raw signal arrives in a preprocessed form, which makes dealing with it slightly easier. The protocol also provides two values called \"meditation\" and \"attention\", which are computed inside the headset. This makes the headset useful even to a computer as simple as the arduino.\n",
    "\n",
    "I'd say the Muse is less \"hackable\" than the Mindwave. It's more difficult to get the SDKs working, and the protocol and its documentation is confusing. There is an SDK for the Muse, but I prefer to interact with the headset directly in Python. The raw signal is much more \"raw\" than in the Neurosky Mindwave. This means you have more control over the signal analysis, but it also means you have to do all of the analysis yourself. Clearly it requires more processing power, but this hardly matters in practice."
   ]
  },
  {
   "cell_type": "markdown",
   "metadata": {
    "slideshow": {
     "slide_type": "slide"
    }
   },
   "source": [
    "# OpenBCI\n",
    "\n",
    "\n",
    "![alt text](openbci_board.png \"Logo Title Text 1\")\n",
    "\n",
    "By <a href=\"//commons.wikimedia.org/w/index.php?title=User:Omphalosskeptic&amp;action=edit&amp;redlink=1\" class=\"new\" title=\"User:Omphalosskeptic (page does not exist)\">Omphalosskeptic</a> - <span class=\"int-own-work\" lang=\"en\">Own work</span>, <a href=\"http://creativecommons.org/licenses/by-sa/4.0\" title=\"Creative Commons Attribution-Share Alike 4.0\">CC BY-SA 4.0</a>, https://commons.wikimedia.org/w/index.php?curid=37520130\n"
   ]
  },
  {
   "cell_type": "markdown",
   "metadata": {
    "slideshow": {
     "slide_type": "slide"
    }
   },
   "source": [
    "# Pysiology\n",
    "\n",
    "- Python library for realtime analysis of physiological signals\n",
    "- supports Mindwave and Muse\n",
    "- supports multiple, irregular timeseries\n",
    "- can stream to Jupyter notebook"
   ]
  },
  {
   "cell_type": "markdown",
   "metadata": {
    "slideshow": {
     "slide_type": "notes"
    }
   },
   "source": [
    "Pysiology is a library I started to experiment with physiological timeseries data, and especially to work with it in realtime. It's not that useful to other people yet, and I am probably the only user so far. But I think it could be useful for OpenBCI and other projects, too.\n",
    "\n",
    "It contains parsers for both Mindwave and Muse protocols, and is designed for heterogenous timeseries, which means different sampling rates and also irregular sampling rates. EEG signals are recorded at a steady rate, but other stuff, like the attention/meditation values, or possibly other sensor data, arrive at slightly irregular intervals. \n",
    "\n"
   ]
  },
  {
   "cell_type": "markdown",
   "metadata": {
    "slideshow": {
     "slide_type": "slide"
    }
   },
   "source": [
    "# Realtime Data"
   ]
  },
  {
   "cell_type": "code",
   "execution_count": 6,
   "metadata": {
    "collapsed": false,
    "slideshow": {
     "slide_type": "notes"
    }
   },
   "outputs": [
    {
     "data": {
      "text/html": [
       "\n",
       "    <div class=\"bk-root\">\n",
       "        <a href=\"http://bokeh.pydata.org\" target=\"_blank\" class=\"bk-logo bk-logo-small bk-logo-notebook\"></a>\n",
       "        <span id=\"82b22624-2dac-4792-9cfc-a30229ff0e44\">Loading BokehJS ...</span>\n",
       "    </div>"
      ]
     },
     "metadata": {},
     "output_type": "display_data"
    },
    {
     "data": {
      "application/javascript": [
       "\n",
       "(function(global) {\n",
       "  function now() {\n",
       "    return new Date();\n",
       "  }\n",
       "\n",
       "  if (typeof (window._bokeh_onload_callbacks) === \"undefined\") {\n",
       "    window._bokeh_onload_callbacks = [];\n",
       "  }\n",
       "\n",
       "  function run_callbacks() {\n",
       "    window._bokeh_onload_callbacks.forEach(function(callback) { callback() });\n",
       "    delete window._bokeh_onload_callbacks\n",
       "    console.info(\"Bokeh: all callbacks have finished\");\n",
       "  }\n",
       "\n",
       "  function load_libs(js_urls, callback) {\n",
       "    window._bokeh_onload_callbacks.push(callback);\n",
       "    if (window._bokeh_is_loading > 0) {\n",
       "      console.log(\"Bokeh: BokehJS is being loaded, scheduling callback at\", now());\n",
       "      return null;\n",
       "    }\n",
       "    if (js_urls == null || js_urls.length === 0) {\n",
       "      run_callbacks();\n",
       "      return null;\n",
       "    }\n",
       "    console.log(\"Bokeh: BokehJS not loaded, scheduling load and callback at\", now());\n",
       "    window._bokeh_is_loading = js_urls.length;\n",
       "    for (var i = 0; i < js_urls.length; i++) {\n",
       "      var url = js_urls[i];\n",
       "      var s = document.createElement('script');\n",
       "      s.src = url;\n",
       "      s.async = false;\n",
       "      s.onreadystatechange = s.onload = function() {\n",
       "        window._bokeh_is_loading--;\n",
       "        if (window._bokeh_is_loading === 0) {\n",
       "          console.log(\"Bokeh: all BokehJS libraries loaded\");\n",
       "          run_callbacks()\n",
       "        }\n",
       "      };\n",
       "      s.onerror = function() {\n",
       "        console.warn(\"failed to load library \" + url);\n",
       "      };\n",
       "      console.log(\"Bokeh: injecting script tag for BokehJS library: \", url);\n",
       "      document.getElementsByTagName(\"head\")[0].appendChild(s);\n",
       "    }\n",
       "  };\n",
       "\n",
       "  var js_urls = ['https://cdn.pydata.org/bokeh/release/bokeh-0.12.0.min.js', 'https://cdn.pydata.org/bokeh/release/bokeh-widgets-0.12.0.min.js', 'https://cdn.pydata.org/bokeh/release/bokeh-compiler-0.12.0.min.js'];\n",
       "\n",
       "  var inline_js = [\n",
       "    function(Bokeh) {\n",
       "      Bokeh.set_log_level(\"info\");\n",
       "    },\n",
       "    \n",
       "    function(Bokeh) {\n",
       "      Bokeh.$(\"#82b22624-2dac-4792-9cfc-a30229ff0e44\").text(\"BokehJS successfully loaded\");\n",
       "    },\n",
       "    function(Bokeh) {\n",
       "      console.log(\"Bokeh: injecting CSS: https://cdn.pydata.org/bokeh/release/bokeh-0.12.0.min.css\");\n",
       "      Bokeh.embed.inject_css(\"https://cdn.pydata.org/bokeh/release/bokeh-0.12.0.min.css\");\n",
       "      console.log(\"Bokeh: injecting CSS: https://cdn.pydata.org/bokeh/release/bokeh-widgets-0.12.0.min.css\");\n",
       "      Bokeh.embed.inject_css(\"https://cdn.pydata.org/bokeh/release/bokeh-widgets-0.12.0.min.css\");\n",
       "    }\n",
       "  ];\n",
       "\n",
       "  function run_inline_js() {\n",
       "    for (var i = 0; i < inline_js.length; i++) {\n",
       "      inline_js[i](window.Bokeh);\n",
       "    }\n",
       "  }\n",
       "\n",
       "  if (window._bokeh_is_loading === 0) {\n",
       "    console.log(\"Bokeh: BokehJS loaded, going straight to plotting\");\n",
       "    run_inline_js();\n",
       "  } else {\n",
       "    load_libs(js_urls, function() {\n",
       "      console.log(\"Bokeh: BokehJS plotting callback run at\", now());\n",
       "      run_inline_js();\n",
       "    });\n",
       "  }\n",
       "}(this));"
      ]
     },
     "metadata": {},
     "output_type": "display_data"
    }
   ],
   "source": [
    "from IPython.core import display\n",
    "from matplotlib import pyplot as plt\n",
    "import bokeh\n",
    "import pysiology\n",
    "import numpy as np\n",
    "from pysiology.pyeeg import bin_power\n",
    "from pysiology.notebook import Experiment, Analysis\n",
    "from bokeh.plotting import figure, output_notebook, show\n",
    "output_notebook()"
   ]
  },
  {
   "cell_type": "code",
   "execution_count": 17,
   "metadata": {
    "collapsed": false,
    "slideshow": {
     "slide_type": "-"
    }
   },
   "outputs": [
    {
     "data": {
      "text/html": [
       "\n",
       "\n",
       "    <div class=\"bk-root\">\n",
       "        <div class=\"plotdiv\" id=\"072b8949-48df-4f08-ac01-f66376cefddb\"></div>\n",
       "    </div>\n",
       "<script type=\"text/javascript\">\n",
       "  \n",
       "  (function(global) {\n",
       "    function now() {\n",
       "      return new Date();\n",
       "    }\n",
       "  \n",
       "    if (typeof (window._bokeh_onload_callbacks) === \"undefined\") {\n",
       "      window._bokeh_onload_callbacks = [];\n",
       "    }\n",
       "  \n",
       "    function run_callbacks() {\n",
       "      window._bokeh_onload_callbacks.forEach(function(callback) { callback() });\n",
       "      delete window._bokeh_onload_callbacks\n",
       "      console.info(\"Bokeh: all callbacks have finished\");\n",
       "    }\n",
       "  \n",
       "    function load_libs(js_urls, callback) {\n",
       "      window._bokeh_onload_callbacks.push(callback);\n",
       "      if (window._bokeh_is_loading > 0) {\n",
       "        console.log(\"Bokeh: BokehJS is being loaded, scheduling callback at\", now());\n",
       "        return null;\n",
       "      }\n",
       "      if (js_urls == null || js_urls.length === 0) {\n",
       "        run_callbacks();\n",
       "        return null;\n",
       "      }\n",
       "      console.log(\"Bokeh: BokehJS not loaded, scheduling load and callback at\", now());\n",
       "      window._bokeh_is_loading = js_urls.length;\n",
       "      for (var i = 0; i < js_urls.length; i++) {\n",
       "        var url = js_urls[i];\n",
       "        var s = document.createElement('script');\n",
       "        s.src = url;\n",
       "        s.async = false;\n",
       "        s.onreadystatechange = s.onload = function() {\n",
       "          window._bokeh_is_loading--;\n",
       "          if (window._bokeh_is_loading === 0) {\n",
       "            console.log(\"Bokeh: all BokehJS libraries loaded\");\n",
       "            run_callbacks()\n",
       "          }\n",
       "        };\n",
       "        s.onerror = function() {\n",
       "          console.warn(\"failed to load library \" + url);\n",
       "        };\n",
       "        console.log(\"Bokeh: injecting script tag for BokehJS library: \", url);\n",
       "        document.getElementsByTagName(\"head\")[0].appendChild(s);\n",
       "      }\n",
       "    };var element = document.getElementById(\"072b8949-48df-4f08-ac01-f66376cefddb\");\n",
       "    if (element == null) {\n",
       "      console.log(\"Bokeh: ERROR: autoload.js configured with elementid '072b8949-48df-4f08-ac01-f66376cefddb' but no matching script tag was found. \")\n",
       "      return false;\n",
       "    }\n",
       "  \n",
       "    var js_urls = [];\n",
       "  \n",
       "    var inline_js = [\n",
       "      function(Bokeh) {\n",
       "        Bokeh.$(function() {\n",
       "            var docs_json = {\"2eca60ca-7eae-4193-850d-4035133294b6\":{\"roots\":{\"references\":[{\"attributes\":{\"line_alpha\":{\"value\":0.1},\"line_color\":{\"value\":\"#1f77b4\"},\"x\":{\"field\":\"x\"},\"y\":{\"field\":\"y\"}},\"id\":\"684a3b04-0ff9-490f-ae68-53a632857c8b\",\"type\":\"Line\"},{\"attributes\":{\"plot\":{\"id\":\"29608b46-27ab-4206-b978-04c9b38761e5\",\"subtype\":\"Figure\",\"type\":\"Plot\"}},\"id\":\"56d1e70d-3e4b-465b-b931-c9230d55d8b2\",\"type\":\"SaveTool\"},{\"attributes\":{\"line_color\":{\"value\":\"#1f77b4\"},\"x\":{\"field\":\"x\"},\"y\":{\"field\":\"y\"}},\"id\":\"c97d625e-36df-40af-a668-bd2370d30024\",\"type\":\"Line\"},{\"attributes\":{},\"id\":\"2ebe9be9-219f-4dd8-a09b-ed069d391a1c\",\"type\":\"ToolEvents\"},{\"attributes\":{\"formatter\":{\"id\":\"c09082ca-f367-4b3e-a737-281817d3f86a\",\"type\":\"BasicTickFormatter\"},\"plot\":{\"id\":\"29608b46-27ab-4206-b978-04c9b38761e5\",\"subtype\":\"Figure\",\"type\":\"Plot\"},\"ticker\":{\"id\":\"ba1f6a57-4d10-4e49-b213-d6a4fbc66be2\",\"type\":\"BasicTicker\"}},\"id\":\"6a250649-ba8b-48cf-a736-74b71c6560f9\",\"type\":\"LinearAxis\"},{\"attributes\":{\"plot\":null,\"text\":null},\"id\":\"145282f8-be18-4bda-858c-a9ae8aa16ef1\",\"type\":\"Title\"},{\"attributes\":{\"below\":[{\"id\":\"9c597a94-98db-4d9d-a1d0-6e1ef5abaef3\",\"type\":\"LinearAxis\"}],\"left\":[{\"id\":\"6a250649-ba8b-48cf-a736-74b71c6560f9\",\"type\":\"LinearAxis\"}],\"plot_height\":400,\"plot_width\":800,\"renderers\":[{\"id\":\"9c597a94-98db-4d9d-a1d0-6e1ef5abaef3\",\"type\":\"LinearAxis\"},{\"id\":\"2dfad319-900a-40cb-bfa3-8bea92e2fee9\",\"type\":\"Grid\"},{\"id\":\"6a250649-ba8b-48cf-a736-74b71c6560f9\",\"type\":\"LinearAxis\"},{\"id\":\"4663c21e-d233-46f4-9759-6d1f2c83eb69\",\"type\":\"Grid\"},{\"id\":\"f9e94f83-fa2e-4ce6-8dfa-fb03a09918a9\",\"type\":\"BoxAnnotation\"},{\"id\":\"0d348f58-7858-4f94-970a-61a41a439bcd\",\"type\":\"GlyphRenderer\"},{\"id\":\"608fbca4-01a9-4eed-8b5e-a238d130451c\",\"type\":\"GlyphRenderer\"}],\"title\":{\"id\":\"145282f8-be18-4bda-858c-a9ae8aa16ef1\",\"type\":\"Title\"},\"tool_events\":{\"id\":\"2ebe9be9-219f-4dd8-a09b-ed069d391a1c\",\"type\":\"ToolEvents\"},\"toolbar\":{\"id\":\"3bc37898-f5cf-48f3-b3ae-ab9d483d4f2f\",\"type\":\"Toolbar\"},\"x_range\":{\"id\":\"a62b2624-d6d9-4548-9440-8a2bc9931715\",\"type\":\"DataRange1d\"},\"y_range\":{\"id\":\"f9407762-d65d-4324-963e-469ee489a471\",\"type\":\"Range1d\"}},\"id\":\"29608b46-27ab-4206-b978-04c9b38761e5\",\"subtype\":\"Figure\",\"type\":\"Plot\"},{\"attributes\":{\"data_source\":{\"id\":\"621453e7-24c4-4aaf-960c-3289d250be9d\",\"type\":\"ColumnDataSource\"},\"glyph\":{\"id\":\"c97d625e-36df-40af-a668-bd2370d30024\",\"type\":\"Line\"},\"hover_glyph\":null,\"nonselection_glyph\":{\"id\":\"684a3b04-0ff9-490f-ae68-53a632857c8b\",\"type\":\"Line\"},\"selection_glyph\":null},\"id\":\"0d348f58-7858-4f94-970a-61a41a439bcd\",\"type\":\"GlyphRenderer\"},{\"attributes\":{\"callback\":null},\"id\":\"a62b2624-d6d9-4548-9440-8a2bc9931715\",\"type\":\"DataRange1d\"},{\"attributes\":{\"callback\":null,\"column_names\":[\"y\",\"x\"],\"data\":{\"x\":[0],\"y\":[0]}},\"id\":\"de6fad0a-dc49-4d19-9c42-ede3463b9c42\",\"type\":\"ColumnDataSource\"},{\"attributes\":{\"line_color\":{\"value\":\"red\"},\"x\":{\"field\":\"x\"},\"y\":{\"field\":\"y\"}},\"id\":\"1fd184eb-28ae-4557-84b3-c75a8920e6d4\",\"type\":\"Line\"},{\"attributes\":{\"plot\":{\"id\":\"29608b46-27ab-4206-b978-04c9b38761e5\",\"subtype\":\"Figure\",\"type\":\"Plot\"},\"ticker\":{\"id\":\"95f631eb-9c01-4d97-bc58-8f0d53e76092\",\"type\":\"BasicTicker\"}},\"id\":\"2dfad319-900a-40cb-bfa3-8bea92e2fee9\",\"type\":\"Grid\"},{\"attributes\":{\"line_alpha\":{\"value\":0.1},\"line_color\":{\"value\":\"#1f77b4\"},\"x\":{\"field\":\"x\"},\"y\":{\"field\":\"y\"}},\"id\":\"8f5dd4e1-45c9-47ad-afb1-6aa3dd17a9a1\",\"type\":\"Line\"},{\"attributes\":{\"plot\":{\"id\":\"29608b46-27ab-4206-b978-04c9b38761e5\",\"subtype\":\"Figure\",\"type\":\"Plot\"}},\"id\":\"01bf8bc2-b7b0-4b8c-bb1f-7f1231182a34\",\"type\":\"PanTool\"},{\"attributes\":{\"active_drag\":\"auto\",\"active_scroll\":\"auto\",\"active_tap\":\"auto\",\"tools\":[{\"id\":\"01bf8bc2-b7b0-4b8c-bb1f-7f1231182a34\",\"type\":\"PanTool\"},{\"id\":\"61e9669c-c3a2-4c43-b452-f68a547fb59c\",\"type\":\"WheelZoomTool\"},{\"id\":\"f153f39c-2aa9-4a2d-bb33-6fec4fdd999b\",\"type\":\"BoxZoomTool\"},{\"id\":\"56d1e70d-3e4b-465b-b931-c9230d55d8b2\",\"type\":\"SaveTool\"},{\"id\":\"683654a1-bf2e-416a-9f68-d19c73fca14d\",\"type\":\"ResetTool\"},{\"id\":\"5ae45b23-66c6-4bb0-bd03-262e70c06105\",\"type\":\"HelpTool\"}]},\"id\":\"3bc37898-f5cf-48f3-b3ae-ab9d483d4f2f\",\"type\":\"Toolbar\"},{\"attributes\":{},\"id\":\"5f1bcc8b-fbc5-4b01-845f-fca421f8623d\",\"type\":\"BasicTickFormatter\"},{\"attributes\":{\"plot\":{\"id\":\"29608b46-27ab-4206-b978-04c9b38761e5\",\"subtype\":\"Figure\",\"type\":\"Plot\"}},\"id\":\"61e9669c-c3a2-4c43-b452-f68a547fb59c\",\"type\":\"WheelZoomTool\"},{\"attributes\":{},\"id\":\"95f631eb-9c01-4d97-bc58-8f0d53e76092\",\"type\":\"BasicTicker\"},{\"attributes\":{\"overlay\":{\"id\":\"f9e94f83-fa2e-4ce6-8dfa-fb03a09918a9\",\"type\":\"BoxAnnotation\"},\"plot\":{\"id\":\"29608b46-27ab-4206-b978-04c9b38761e5\",\"subtype\":\"Figure\",\"type\":\"Plot\"}},\"id\":\"f153f39c-2aa9-4a2d-bb33-6fec4fdd999b\",\"type\":\"BoxZoomTool\"},{\"attributes\":{\"dimension\":1,\"plot\":{\"id\":\"29608b46-27ab-4206-b978-04c9b38761e5\",\"subtype\":\"Figure\",\"type\":\"Plot\"},\"ticker\":{\"id\":\"ba1f6a57-4d10-4e49-b213-d6a4fbc66be2\",\"type\":\"BasicTicker\"}},\"id\":\"4663c21e-d233-46f4-9759-6d1f2c83eb69\",\"type\":\"Grid\"},{\"attributes\":{\"formatter\":{\"id\":\"5f1bcc8b-fbc5-4b01-845f-fca421f8623d\",\"type\":\"BasicTickFormatter\"},\"plot\":{\"id\":\"29608b46-27ab-4206-b978-04c9b38761e5\",\"subtype\":\"Figure\",\"type\":\"Plot\"},\"ticker\":{\"id\":\"95f631eb-9c01-4d97-bc58-8f0d53e76092\",\"type\":\"BasicTicker\"}},\"id\":\"9c597a94-98db-4d9d-a1d0-6e1ef5abaef3\",\"type\":\"LinearAxis\"},{\"attributes\":{},\"id\":\"ba1f6a57-4d10-4e49-b213-d6a4fbc66be2\",\"type\":\"BasicTicker\"},{\"attributes\":{\"callback\":null,\"column_names\":[\"y\",\"x\"],\"data\":{\"x\":[0],\"y\":[0]}},\"id\":\"621453e7-24c4-4aaf-960c-3289d250be9d\",\"type\":\"ColumnDataSource\"},{\"attributes\":{\"plot\":{\"id\":\"29608b46-27ab-4206-b978-04c9b38761e5\",\"subtype\":\"Figure\",\"type\":\"Plot\"}},\"id\":\"683654a1-bf2e-416a-9f68-d19c73fca14d\",\"type\":\"ResetTool\"},{\"attributes\":{\"bottom_units\":\"screen\",\"fill_alpha\":{\"value\":0.5},\"fill_color\":{\"value\":\"lightgrey\"},\"left_units\":\"screen\",\"level\":\"overlay\",\"line_alpha\":{\"value\":1.0},\"line_color\":{\"value\":\"black\"},\"line_dash\":[4,4],\"line_width\":{\"value\":2},\"plot\":null,\"render_mode\":\"css\",\"right_units\":\"screen\",\"top_units\":\"screen\"},\"id\":\"f9e94f83-fa2e-4ce6-8dfa-fb03a09918a9\",\"type\":\"BoxAnnotation\"},{\"attributes\":{\"plot\":{\"id\":\"29608b46-27ab-4206-b978-04c9b38761e5\",\"subtype\":\"Figure\",\"type\":\"Plot\"}},\"id\":\"5ae45b23-66c6-4bb0-bd03-262e70c06105\",\"type\":\"HelpTool\"},{\"attributes\":{\"data_source\":{\"id\":\"de6fad0a-dc49-4d19-9c42-ede3463b9c42\",\"type\":\"ColumnDataSource\"},\"glyph\":{\"id\":\"1fd184eb-28ae-4557-84b3-c75a8920e6d4\",\"type\":\"Line\"},\"hover_glyph\":null,\"nonselection_glyph\":{\"id\":\"8f5dd4e1-45c9-47ad-afb1-6aa3dd17a9a1\",\"type\":\"Line\"},\"selection_glyph\":null},\"id\":\"608fbca4-01a9-4eed-8b5e-a238d130451c\",\"type\":\"GlyphRenderer\"},{\"attributes\":{},\"id\":\"c09082ca-f367-4b3e-a737-281817d3f86a\",\"type\":\"BasicTickFormatter\"},{\"attributes\":{\"callback\":null,\"end\":5000,\"start\":-5000},\"id\":\"f9407762-d65d-4324-963e-469ee489a471\",\"type\":\"Range1d\"}],\"root_ids\":[\"29608b46-27ab-4206-b978-04c9b38761e5\"]},\"title\":\"Bokeh Application\",\"version\":\"0.12.0\"}};\n",
       "            var render_items = [{\"docid\":\"2eca60ca-7eae-4193-850d-4035133294b6\",\"elementid\":\"072b8949-48df-4f08-ac01-f66376cefddb\",\"modelid\":\"29608b46-27ab-4206-b978-04c9b38761e5\",\"notebook_comms_target\":\"7f9f87f6-f479-46de-98f3-36417f2bc4b4\"}];\n",
       "            \n",
       "            Bokeh.embed.embed_items(docs_json, render_items);\n",
       "        });\n",
       "      },\n",
       "      function(Bokeh) {\n",
       "      }\n",
       "    ];\n",
       "  \n",
       "    function run_inline_js() {\n",
       "      for (var i = 0; i < inline_js.length; i++) {\n",
       "        inline_js[i](window.Bokeh);\n",
       "      }\n",
       "    }\n",
       "  \n",
       "    if (window._bokeh_is_loading === 0) {\n",
       "      console.log(\"Bokeh: BokehJS loaded, going straight to plotting\");\n",
       "      run_inline_js();\n",
       "    } else {\n",
       "      load_libs(js_urls, function() {\n",
       "        console.log(\"Bokeh: BokehJS plotting callback run at\", now());\n",
       "        run_inline_js();\n",
       "      });\n",
       "    }\n",
       "  }(this));\n",
       "</script>"
      ]
     },
     "metadata": {},
     "output_type": "display_data"
    },
    {
     "name": "stdout",
     "output_type": "stream",
     "text": [
      "Stopped.\n"
     ]
    }
   ],
   "source": [
    "figure_realtime_1()"
   ]
  },
  {
   "cell_type": "markdown",
   "metadata": {
    "slideshow": {
     "slide_type": "slide"
    }
   },
   "source": [
    "# Architecture\n",
    "\n",
    "- AsyncIO server\n",
    "    - connects to the headset over bluetooth\n",
    "    - parses data\n",
    "    - sends data to IPython kernel over websockets\n",
    "- IPython Kernel\n",
    "    - connects to AsyncIO server websocket\n",
    "    - runs experiments\n",
    "    - updates timeseries    \n",
    "- Jupyter Notebook in the Browser\n",
    "    - displays data and/or feedback\n",
    "    - offers control over the experiment"
   ]
  },
  {
   "cell_type": "markdown",
   "metadata": {
    "slideshow": {
     "slide_type": "notes"
    }
   },
   "source": [
    "Physiology runs a server process which handles the communication with the sensors and devices. It's a seperate process from the notebook stuff in order to be independent to what happens with the notebook, the kernel and the network. It hosts a websocket service, where other software can connect and request data.\n",
    "\n",
    "So the Jupyter Notebook architecture is such that there is a central Tornado server to serve the notebook and handle the notebook files. Then there are so called Kernels, which can be in different programming languages and use different environments. These are seperate processes which communicate over ZeroMQ with the central Tornado server.\n",
    "\n",
    "Originally, this was called the IPython Notebook, then the project changed to the \"Jupyter\" name. But the kernel, which runs your Python blocks in a notebook, is still called IPython. It has no direct connection to the browser side of things, instead, it sends messages to the central Jupyter server, and this then sends these messages over a websocket.\n",
    "\n",
    "So the big secret to this interactivity is that the IPython kernel itself is a tornado application. It can do everything you can do with the Tornado framework for asynchronous programming, like connecting to the websocket of the pysiology server and reading data from it asynchronously.\n"
   ]
  },
  {
   "cell_type": "markdown",
   "metadata": {
    "slideshow": {
     "slide_type": "notes"
    }
   },
   "source": [
    "## Handling Bluetooth\n",
    "\n"
   ]
  },
  {
   "cell_type": "markdown",
   "metadata": {
    "slideshow": {
     "slide_type": "notes"
    }
   },
   "source": [
    "I'm using pybluez to run the bluetooth communications. The Python 3 standard library theoretically has its own functions to handle a bluetooth socket like any other socket.\n",
    "\n",
    "One of the problems with Bluetooth in General is that it fails all the time. For example when the device is down, or it has just been disconnected or the device is out of range, or whatever other reason. The AsyncIO style really works well for this kind of troubleshooting.\n",
    "\n",
    "Another problem is the timing. Both the Mindwave and the Muse don't transmit any information about the time of the samples. So in the pysiology server there is some logic to try and guess the time from the point when the first data was received and the known sample rate. It somewhat works, but it's not very precise and we never know the exact latency of the data. Which can be a problem sometimes."
   ]
  },
  {
   "cell_type": "markdown",
   "metadata": {
    "slideshow": {
     "slide_type": "slide"
    }
   },
   "source": [
    "# Discovery Requires Experimentation\n",
    "(Daniel Whitehall in \"Marvels Agent's of Shield\")"
   ]
  },
  {
   "cell_type": "markdown",
   "metadata": {
    "slideshow": {
     "slide_type": "notes"
    }
   },
   "source": [
    "I demoed the integration of realtime data before. These demonstrations use Experiment classes, which handle both the communication with the server and the recording of the data."
   ]
  },
  {
   "cell_type": "markdown",
   "metadata": {
    "slideshow": {
     "slide_type": "slide"
    }
   },
   "source": [
    "# Experiment Classes\n"
   ]
  },
  {
   "cell_type": "code",
   "execution_count": 112,
   "metadata": {
    "collapsed": false
   },
   "outputs": [],
   "source": [
    "class MuseAndMindwave(Experiment):\n",
    "    muse = Muse(\"00:06:66:6F:F0:97\", interval=0.25)\n",
    "    mindwave = Mindwave(\"74:E5:43:BE:42:50\", interval=0.25)"
   ]
  },
  {
   "cell_type": "markdown",
   "metadata": {
    "slideshow": {
     "slide_type": "notes"
    }
   },
   "source": [
    "An experiment is defined by declaring devices. Currently I only have two device classes, Muse and Mindwave, but other devices could be integrated too. So this framework is capable of dealing with multiple devices at the same time."
   ]
  },
  {
   "cell_type": "markdown",
   "metadata": {
    "slideshow": {
     "slide_type": "slide"
    }
   },
   "source": [
    "# Experiment Classes (2)"
   ]
  },
  {
   "cell_type": "code",
   "execution_count": null,
   "metadata": {
    "collapsed": true
   },
   "outputs": [],
   "source": [
    "class MyExperiment(Experiment):\n",
    "    muse = Muse(\"00:06:66:6F:F0:97\", interval=0.1)\n"
   ]
  },
  {
   "cell_type": "code",
   "execution_count": 10,
   "metadata": {
    "collapsed": false
   },
   "outputs": [
    {
     "name": "stdout",
     "output_type": "stream",
     "text": [
      "Stopped.\n"
     ]
    }
   ],
   "source": [
    "display = HTML(value=\"\")\n",
    "IPython.display.display(display)\n",
    "exp = MyExperiment(\"muse_recording.hdf5\")\n",
    "@exp\n",
    "def handler(experiment, msg):\n",
    "    if not hasattr(experiment.muse, \"AF7\"):\n",
    "        return\n",
    "    display.value = \"<h3>{s} seconds</h3>\".format(s=len(experiment.muse.AF7)/500)"
   ]
  },
  {
   "cell_type": "markdown",
   "metadata": {
    "slideshow": {
     "slide_type": "notes"
    }
   },
   "source": [
    "This example shows how to run an experiment and display some realtime information on the screen. The Experiment class is instantiated, optionally with a file name. This is where the information is recorded. If you run an experiment multiple times on the same file, each run is stored in a seperate hdf5 folder, so nothing is overwritten and you can easily have multiple recordings in the same file.\n",
    "\n",
    "To run the experiment, the instance is used as a decorator on a handler function, which makes this very clean and easy to do. Everytime we get new data, this handler is called. The HTML widget is a great way to display generic information. Just update its HTML value and it will show up on the screen automatically.\n",
    "\n"
   ]
  },
  {
   "cell_type": "markdown",
   "metadata": {
    "slideshow": {
     "slide_type": "slide"
    }
   },
   "source": [
    "# Experiment Classes (3)"
   ]
  },
  {
   "cell_type": "code",
   "execution_count": 123,
   "metadata": {
    "collapsed": false
   },
   "outputs": [
    {
     "data": {
      "text/plain": [
       "2016-07-19 16:00:37.621574656    12136\n",
       "2016-07-19 16:00:37.623574784    12174\n",
       "2016-07-19 16:00:37.625574656    12215\n",
       "2016-07-19 16:00:37.627574784    12219\n",
       "2016-07-19 16:00:37.629574656    12208\n",
       "dtype: int64"
      ]
     },
     "execution_count": 123,
     "metadata": {},
     "output_type": "execute_result"
    }
   ],
   "source": [
    "exp.muse.AF7.head()"
   ]
  },
  {
   "cell_type": "markdown",
   "metadata": {
    "slideshow": {
     "slide_type": "notes"
    }
   },
   "source": [
    "This is all you need to access a timeseries on an experiment instance. These timeseries objects are automatically updated whenever new data becomes available. This makes it extremely easy to run interactive experiments.\n"
   ]
  },
  {
   "cell_type": "markdown",
   "metadata": {
    "slideshow": {
     "slide_type": "slide"
    }
   },
   "source": [
    "# Analysis"
   ]
  },
  {
   "cell_type": "markdown",
   "metadata": {
    "slideshow": {
     "slide_type": "notes"
    }
   },
   "source": [
    "The experiment instances save their data in an HDF5 file, one run after the other. Now there is a second class which can analyse these recordings.\n",
    "\n",
    "The main way to analyse these experiments is by turning the timeseries data in a table with rows and columns. This is done by defining windows with a certain width and a certain step size, and then the columns are filled with computations over the data in this window."
   ]
  },
  {
   "cell_type": "markdown",
   "metadata": {
    "slideshow": {
     "slide_type": "slide"
    }
   },
   "source": [
    "# Correlations between channels"
   ]
  },
  {
   "cell_type": "code",
   "execution_count": 130,
   "metadata": {
    "collapsed": false,
    "slideshow": {
     "slide_type": "-"
    }
   },
   "outputs": [],
   "source": [
    "a = Analysis(\"correlation_1.hdf5\")\n",
    "windows = list(a.iterate_windows(window_size=3, step_size=1))"
   ]
  },
  {
   "cell_type": "markdown",
   "metadata": {
    "slideshow": {
     "slide_type": "slide"
    }
   },
   "source": [
    "# Correlations between channels (2)"
   ]
  },
  {
   "cell_type": "code",
   "execution_count": 133,
   "metadata": {
    "collapsed": false,
    "slideshow": {
     "slide_type": "-"
    }
   },
   "outputs": [],
   "source": [
    "def process( start, end, run, run_number, muse, **kwargs):\n",
    "    record = dict(eeg_length=len(muse['AF7']),)\n",
    "    for name, ts in muse.items():\n",
    "        record['%s_std' % name] = ts[1:].std()\n",
    "        record['%s_mean' % name] = ts[1:].mean()\n",
    "        record['%s_min' % name] = ts[1:].min()\n",
    "        record['%s_max' % name] = ts[1:].max()\n",
    "        if name in ['AF7', 'AF8','TP9','TP10']:\n",
    "            bins = np.arange(0,40)\n",
    "            abs_str, rel_str = bin_power(ts.values, bins, 500)\n",
    "            beta_1 = rel_str[12:16].sum()\n",
    "            alpha = rel_str[7:12].sum()\n",
    "            record['%s_beta_1' % name] = beta_1\n",
    "            record['%s_alpha' % name] = alpha\n",
    "    return record\n",
    "\n",
    "df = pd.DataFrame.from_records([process(**w) for w in windows])\n",
    "df = df[(df.eeg_length>=1500) & (df.AF7_std<500)]"
   ]
  },
  {
   "cell_type": "code",
   "execution_count": 134,
   "metadata": {
    "collapsed": false,
    "slideshow": {
     "slide_type": "slide"
    }
   },
   "outputs": [
    {
     "data": {
      "text/html": [
       "<div>\n",
       "<table border=\"1\" class=\"dataframe\">\n",
       "  <thead>\n",
       "    <tr style=\"text-align: right;\">\n",
       "      <th></th>\n",
       "      <th>AF7_alpha</th>\n",
       "      <th>AF7_beta_1</th>\n",
       "      <th>AF7_max</th>\n",
       "      <th>AF7_mean</th>\n",
       "      <th>AF7_min</th>\n",
       "      <th>AF7_std</th>\n",
       "      <th>AF8_alpha</th>\n",
       "      <th>AF8_beta_1</th>\n",
       "      <th>AF8_max</th>\n",
       "      <th>AF8_mean</th>\n",
       "      <th>...</th>\n",
       "      <th>TP10_mean</th>\n",
       "      <th>TP10_min</th>\n",
       "      <th>TP10_std</th>\n",
       "      <th>TP9_alpha</th>\n",
       "      <th>TP9_beta_1</th>\n",
       "      <th>TP9_max</th>\n",
       "      <th>TP9_mean</th>\n",
       "      <th>TP9_min</th>\n",
       "      <th>TP9_std</th>\n",
       "      <th>eeg_length</th>\n",
       "    </tr>\n",
       "  </thead>\n",
       "  <tbody>\n",
       "    <tr>\n",
       "      <th>3</th>\n",
       "      <td>0.018370</td>\n",
       "      <td>0.007961</td>\n",
       "      <td>14984.0</td>\n",
       "      <td>12390.638907</td>\n",
       "      <td>11641.0</td>\n",
       "      <td>459.958833</td>\n",
       "      <td>0.022096</td>\n",
       "      <td>0.008897</td>\n",
       "      <td>16772.0</td>\n",
       "      <td>12602.820786</td>\n",
       "      <td>...</td>\n",
       "      <td>12704.401732</td>\n",
       "      <td>11027.0</td>\n",
       "      <td>619.787680</td>\n",
       "      <td>0.096405</td>\n",
       "      <td>0.044462</td>\n",
       "      <td>19583.0</td>\n",
       "      <td>9822.439707</td>\n",
       "      <td>0.0</td>\n",
       "      <td>4120.819228</td>\n",
       "      <td>1502</td>\n",
       "    </tr>\n",
       "    <tr>\n",
       "      <th>4</th>\n",
       "      <td>0.018368</td>\n",
       "      <td>0.005757</td>\n",
       "      <td>14984.0</td>\n",
       "      <td>12237.185210</td>\n",
       "      <td>11155.0</td>\n",
       "      <td>463.555877</td>\n",
       "      <td>0.014456</td>\n",
       "      <td>0.010083</td>\n",
       "      <td>14857.0</td>\n",
       "      <td>12272.944037</td>\n",
       "      <td>...</td>\n",
       "      <td>12693.161226</td>\n",
       "      <td>11681.0</td>\n",
       "      <td>464.763003</td>\n",
       "      <td>0.114598</td>\n",
       "      <td>0.064535</td>\n",
       "      <td>24527.0</td>\n",
       "      <td>9201.682878</td>\n",
       "      <td>0.0</td>\n",
       "      <td>3301.369590</td>\n",
       "      <td>1502</td>\n",
       "    </tr>\n",
       "    <tr>\n",
       "      <th>5</th>\n",
       "      <td>0.020321</td>\n",
       "      <td>0.007195</td>\n",
       "      <td>14984.0</td>\n",
       "      <td>12169.742838</td>\n",
       "      <td>11155.0</td>\n",
       "      <td>495.732708</td>\n",
       "      <td>0.015687</td>\n",
       "      <td>0.010968</td>\n",
       "      <td>14857.0</td>\n",
       "      <td>12284.962692</td>\n",
       "      <td>...</td>\n",
       "      <td>12760.324450</td>\n",
       "      <td>11681.0</td>\n",
       "      <td>459.813783</td>\n",
       "      <td>0.061503</td>\n",
       "      <td>0.038736</td>\n",
       "      <td>24530.0</td>\n",
       "      <td>13242.073951</td>\n",
       "      <td>3057.0</td>\n",
       "      <td>5471.442498</td>\n",
       "      <td>1502</td>\n",
       "    </tr>\n",
       "    <tr>\n",
       "      <th>6</th>\n",
       "      <td>0.013693</td>\n",
       "      <td>0.006388</td>\n",
       "      <td>13066.0</td>\n",
       "      <td>12045.671552</td>\n",
       "      <td>11155.0</td>\n",
       "      <td>304.489986</td>\n",
       "      <td>0.012240</td>\n",
       "      <td>0.009736</td>\n",
       "      <td>13566.0</td>\n",
       "      <td>12203.656895</td>\n",
       "      <td>...</td>\n",
       "      <td>12468.300466</td>\n",
       "      <td>11612.0</td>\n",
       "      <td>376.142669</td>\n",
       "      <td>0.058114</td>\n",
       "      <td>0.036162</td>\n",
       "      <td>24530.0</td>\n",
       "      <td>12348.846103</td>\n",
       "      <td>0.0</td>\n",
       "      <td>6913.775189</td>\n",
       "      <td>1502</td>\n",
       "    </tr>\n",
       "    <tr>\n",
       "      <th>7</th>\n",
       "      <td>0.014872</td>\n",
       "      <td>0.008548</td>\n",
       "      <td>13052.0</td>\n",
       "      <td>12064.903398</td>\n",
       "      <td>10567.0</td>\n",
       "      <td>336.753485</td>\n",
       "      <td>0.015235</td>\n",
       "      <td>0.010375</td>\n",
       "      <td>13566.0</td>\n",
       "      <td>12277.578281</td>\n",
       "      <td>...</td>\n",
       "      <td>12396.358428</td>\n",
       "      <td>11612.0</td>\n",
       "      <td>350.526331</td>\n",
       "      <td>0.054022</td>\n",
       "      <td>0.037338</td>\n",
       "      <td>24530.0</td>\n",
       "      <td>14341.174550</td>\n",
       "      <td>0.0</td>\n",
       "      <td>7766.163838</td>\n",
       "      <td>1502</td>\n",
       "    </tr>\n",
       "  </tbody>\n",
       "</table>\n",
       "<p>5 rows × 33 columns</p>\n",
       "</div>"
      ],
      "text/plain": [
       "   AF7_alpha  AF7_beta_1  AF7_max      AF7_mean  AF7_min     AF7_std  \\\n",
       "3   0.018370    0.007961  14984.0  12390.638907  11641.0  459.958833   \n",
       "4   0.018368    0.005757  14984.0  12237.185210  11155.0  463.555877   \n",
       "5   0.020321    0.007195  14984.0  12169.742838  11155.0  495.732708   \n",
       "6   0.013693    0.006388  13066.0  12045.671552  11155.0  304.489986   \n",
       "7   0.014872    0.008548  13052.0  12064.903398  10567.0  336.753485   \n",
       "\n",
       "   AF8_alpha  AF8_beta_1  AF8_max      AF8_mean     ...         TP10_mean  \\\n",
       "3   0.022096    0.008897  16772.0  12602.820786     ...      12704.401732   \n",
       "4   0.014456    0.010083  14857.0  12272.944037     ...      12693.161226   \n",
       "5   0.015687    0.010968  14857.0  12284.962692     ...      12760.324450   \n",
       "6   0.012240    0.009736  13566.0  12203.656895     ...      12468.300466   \n",
       "7   0.015235    0.010375  13566.0  12277.578281     ...      12396.358428   \n",
       "\n",
       "   TP10_min    TP10_std  TP9_alpha  TP9_beta_1  TP9_max      TP9_mean  \\\n",
       "3   11027.0  619.787680   0.096405    0.044462  19583.0   9822.439707   \n",
       "4   11681.0  464.763003   0.114598    0.064535  24527.0   9201.682878   \n",
       "5   11681.0  459.813783   0.061503    0.038736  24530.0  13242.073951   \n",
       "6   11612.0  376.142669   0.058114    0.036162  24530.0  12348.846103   \n",
       "7   11612.0  350.526331   0.054022    0.037338  24530.0  14341.174550   \n",
       "\n",
       "   TP9_min      TP9_std  eeg_length  \n",
       "3      0.0  4120.819228        1502  \n",
       "4      0.0  3301.369590        1502  \n",
       "5   3057.0  5471.442498        1502  \n",
       "6      0.0  6913.775189        1502  \n",
       "7      0.0  7766.163838        1502  \n",
       "\n",
       "[5 rows x 33 columns]"
      ]
     },
     "execution_count": 134,
     "metadata": {},
     "output_type": "execute_result"
    }
   ],
   "source": [
    "df.head()"
   ]
  },
  {
   "cell_type": "markdown",
   "metadata": {
    "slideshow": {
     "slide_type": "slide"
    }
   },
   "source": [
    "# Correlations between channels (3)"
   ]
  },
  {
   "cell_type": "code",
   "execution_count": 135,
   "metadata": {
    "collapsed": false
   },
   "outputs": [
    {
     "data": {
      "text/html": [
       "<div id=\"6767c5b75ca70fac\"></div>\n",
       "    <script type=\"text/javascript\">\n",
       "        $(function(){\n",
       "            var p = $(\"#6767c5b75ca70fac\");\n",
       "            if (p.length==0) return;\n",
       "            while (!p.hasClass(\"cell\")) {\n",
       "                p=p.parent();\n",
       "                if (p.prop(\"tagName\") ==\"body\") return;\n",
       "            }\n",
       "            var cell = p;\n",
       "            cell.find(\".input\").addClass(\"hide-in-slideshow\")\n",
       "        });\n",
       "    </script>"
      ]
     },
     "metadata": {},
     "output_type": "display_data"
    },
    {
     "data": {
      "image/png": "[encoded data removed]",
      "text/plain": [
       "<matplotlib.figure.Figure at 0x7f033d593ac8>"
      ]
     },
     "metadata": {},
     "output_type": "display_data"
    }
   ],
   "source": [
    "from presentation import figure_correlation_1\n",
    "figure_correlation_1(df)\n",
    "hide_code_in_slideshow()"
   ]
  },
  {
   "cell_type": "markdown",
   "metadata": {
    "slideshow": {
     "slide_type": "slide"
    }
   },
   "source": [
    "# Correlations between Muse and Mindwave"
   ]
  },
  {
   "cell_type": "code",
   "execution_count": 13,
   "metadata": {
    "collapsed": false,
    "slideshow": {
     "slide_type": "notes"
    }
   },
   "outputs": [
    {
     "name": "stderr",
     "output_type": "stream",
     "text": [
      "/home/andi/anaconda3/envs/pysio/lib/python3.5/site-packages/numpy/core/_methods.py:82: RuntimeWarning: Degrees of freedom <= 0 for slice\n",
      "  warnings.warn(\"Degrees of freedom <= 0 for slice\", RuntimeWarning)\n"
     ]
    }
   ],
   "source": [
    "a = Analysis(\"correlation_2.hdf5\")\n",
    "windows = a.iterate_windows(window_size=3, step_size=1)\n",
    "\n",
    "def process( start, end, run, run_number, muse, mindwave, **kwargs):\n",
    "    record = dict(eeg_length=len(muse['AF7']),)\n",
    "    for name, ts in muse.items():\n",
    "        record['%s_std' % name] = ts[1:].std()\n",
    "        record['%s_mean' % name] = ts[1:].mean()\n",
    "        record['%s_min' % name] = ts[1:].min()\n",
    "        record['%s_max' % name] = ts[1:].max()\n",
    "        if name in ['AF7', 'AF8','TP9','TP10']:\n",
    "            bins = np.arange(0,40)\n",
    "            abs_str, rel_str = bin_power(ts.values, bins, 500)\n",
    "            beta_1 = rel_str[12:16].sum()\n",
    "            alpha = rel_str[7:12].sum()\n",
    "            record['%s_beta_1' % name] = beta_1\n",
    "            record['%s_alpha' % name] = alpha\n",
    "    \n",
    "    raw = mindwave[\"raw\"]\n",
    "    record[\"mindwave_length\"] = len(raw)\n",
    "    record[\"mindwave_std\"] = raw.values.std()\n",
    "    if len(raw)>500:\n",
    "        bins = np.arange(0,40)\n",
    "        abs_str, rel_str = bin_power(raw.values, bins, 500)\n",
    "        beta_1 = rel_str[12:16].sum()\n",
    "        alpha = rel_str[7:12].sum()\n",
    "        record[\"mindwave_alpha\"] = alpha\n",
    "        record[\"mindwave_beta_1\"] = beta_1\n",
    "    return record\n",
    "\n",
    "df = pd.DataFrame.from_records([process(**w) for w in windows])\n",
    "df = df[(df.eeg_length>=1500) & (df.AF7_std<500) & df.mindwave_std < 120]"
   ]
  },
  {
   "cell_type": "code",
   "execution_count": 14,
   "metadata": {
    "collapsed": false,
    "slideshow": {
     "slide_type": "-"
    }
   },
   "outputs": [
    {
     "data": {
      "text/html": [
       "<div id=\"e6889d1591990314\"></div>\n",
       "    <script type=\"text/javascript\">\n",
       "        $(function(){\n",
       "            var p = $(\"#e6889d1591990314\");\n",
       "            if (p.length==0) return;\n",
       "            while (!p.hasClass(\"cell\")) {\n",
       "                p=p.parent();\n",
       "                if (p.prop(\"tagName\") ==\"body\") return;\n",
       "            }\n",
       "            var cell = p;\n",
       "            cell.find(\".input\").addClass(\"hide-in-slideshow\")\n",
       "        });\n",
       "    </script>"
      ]
     },
     "metadata": {},
     "output_type": "display_data"
    },
    {
     "data": {
      "image/png": "[encoded data removed]",
      "text/plain": [
       "<matplotlib.figure.Figure at 0x7fbb257c3da0>"
      ]
     },
     "metadata": {},
     "output_type": "display_data"
    }
   ],
   "source": [
    "f,axes = plt.subplots(1,2, )\n",
    "f.set_figwidth(12)\n",
    "f.set_figheight(6)\n",
    "ax = axes[0]\n",
    "\n",
    "ax.set_title(\"Alpha\")\n",
    "#ax.xaxis.set_ticklabels(\"\")\n",
    "#ax.yaxis.set_ticklabels(\"\")\n",
    "ax.xaxis.set_label_text(\"Mindwave\")\n",
    "ax.yaxis.set_label_text(\"Muse AF7+AF8\")\n",
    "ax.scatter(df.mindwave_alpha, df.AF7_alpha+ df.AF8_alpha, s=2);\n",
    "ax.set_xlim(0.04,0.2)\n",
    "ax.set_ylim(0.0,0.02)\n",
    "\n",
    "ax = axes[1]\n",
    "ax.set_title(\"Beta 1\")\n",
    "\n",
    "ax.xaxis.set_label_text(\"Mindwave\")\n",
    "\n",
    "ax.yaxis.set_label_text(\"AF7+AF8\")\n",
    "ax.set_ylim(0.0,0.01)\n",
    "ax.scatter(df.mindwave_beta_1, df.AF8_beta_1+ df.AF7_beta_1, s=2);\n",
    "hide_code_in_slideshow()"
   ]
  },
  {
   "cell_type": "markdown",
   "metadata": {
    "slideshow": {
     "slide_type": "slide"
    }
   },
   "source": [
    "# Other Stuff I've been up to...\n",
    "\n",
    "\n",
    "## Porekit-Python\n",
    "- Library for analysing Oxford Nanopore data \"Genome Sequencing for Hackers\"\n",
    "\n",
    "## Presenting with Jupyter\n",
    "- Workshop about presentation tricks\n",
    "\n",
    "## Jupyter FlightGear\n",
    "- https://github.com/akloster/jupyter-flightgear\n",
    "\n"
   ]
  },
  {
   "cell_type": "markdown",
   "metadata": {
    "collapsed": true,
    "slideshow": {
     "slide_type": "slide"
    }
   },
   "source": [
    "Thank you for your Attention\n",
    "=====\n",
    "\n",
    "Twitter: @BayesianHorse\n",
    "--------------------------\n",
    "- Pysiology https://github.com/akloster/pysiology\n",
    "- Table Cleaner https://github.com/akloster/table-cleaner\n",
    "- Notebook Assets https://github.com/akloster/nb-assets"
   ]
  }
 ],
 "metadata": {
  "anaconda-cloud": {},
  "celltoolbar": "Slideshow",
  "kernelspec": {
   "display_name": "Python [pysio]",
   "language": "python",
   "name": "Python [pysio]"
  },
  "language_info": {
   "codemirror_mode": {
    "name": "ipython",
    "version": 3
   },
   "file_extension": ".py",
   "mimetype": "text/x-python",
   "name": "python",
   "nbconvert_exporter": "python",
   "pygments_lexer": "ipython3",
   "version": "3.5.1"
  }
 },
 "nbformat": 4,
 "nbformat_minor": 0
}
